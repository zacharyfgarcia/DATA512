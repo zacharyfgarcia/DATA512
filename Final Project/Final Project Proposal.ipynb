{
 "cells": [
  {
   "cell_type": "markdown",
   "metadata": {},
   "source": [
    "# Final Project Proposal\n",
    "\n",
    "For my final project, I'm interested in learning more about how people park in the city, both from the angle of drivers and from the angle of local government. More specifically, I'd like to know if data can illuminate any ways that a driver could improve their parking situation by taking advantage of lesser-known parking spots, favorable times of day, where to best park overnight, or any other interesting patterns when parking in the city.  On the other hand, there are likely ways that local government can better optimize their parking enforcement and payment policies, and I'd like to try and identify some of these from data as well. Since I both live and own a car in Seattle, I'm interested in these dynamics here in the city on a practical level, and think it could be practically useful for others as well. \n",
    "\n",
    "The dataset I'm planning to use has the last 30 days of paid parking occupancy in Seattle. My source link is here: https://data.seattle.gov/Transportation/Paid-Parking-Occupancy-Last-30-Days-/rke9-rsvs and the Seattle Department of Transportation published this dataset under public domain, with the following statement: \"The City is providing data to researchers and programmers for analysis and to develop applications that might help improve parking management conditions. SDOT’s interest is to make data-driven parking decisions and to help people access parking information so that they can find a space easier and spend less time circling, stuck in traffic.\" It's relevant to my problem statement in that it contains 24.7 million instances of paid parking in Seattle with detailed location information, time limit, and number of surrounding spaces for each record.  One obvious limitation is that this dataset necessarily doesn't include unpaid parking whether of legal or illegal nature (in a paid spot). However, by observing where people have paid and comparing it with other public sources of data like neighborhood populations or car ownership rates, I still hope to glean some interesting takeaways. The 30 day cap to the data also means I will miss out on any seasonal effects, but can pick up on weekly trends. Ethically, I think using the dataset is somewhat benign with two exceptions: the first is that if I find any obvious exploits for parking illegally in Seattle without being caught, I probably should keep those to myself. And next, making it easier to park in the city could encourage people to choose driving over public transportation more often which could have negative environmental effects.\n",
    "\n",
    "Right now, I feel good that the parking dataset is both flexible and large enough to accommodate several different courses of inquiry. However, it's possible that unless I augment it with additional data such a map of the city or commuting pattern data, that I won't be able to glean many quality insights. I haven't sourced any supplementary datasets yet so doing so could be a limiting factor. Furthermore, any location-based visualizations I might want to use in my presentation or paper will likely take more sophistication than regular box plots or time series, so getting that working properly might also limit my output.  \n"
   ]
  },
  {
   "cell_type": "code",
   "execution_count": null,
   "metadata": {},
   "outputs": [],
   "source": []
  }
 ],
 "metadata": {
  "kernelspec": {
   "display_name": "Python 3",
   "language": "python",
   "name": "python3"
  },
  "language_info": {
   "codemirror_mode": {
    "name": "ipython",
    "version": 3
   },
   "file_extension": ".py",
   "mimetype": "text/x-python",
   "name": "python",
   "nbconvert_exporter": "python",
   "pygments_lexer": "ipython3",
   "version": "3.7.4"
  }
 },
 "nbformat": 4,
 "nbformat_minor": 2
}
